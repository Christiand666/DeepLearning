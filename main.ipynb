{
 "cells": [
  {
   "cell_type": "code",
   "execution_count": 2,
   "metadata": {},
   "outputs": [],
   "source": [
    "from PIL import Image\n",
    "import csv\n",
    "import os\n",
    "from torch.utils.data import Dataset\n",
    "import pandas as pd\n",
    "from torchvision.io import read_image\n",
    "import matplotlib.pyplot as plt\n",
    "import torchvision\n",
    "from torch.utils.data import DataLoader\n",
    "import torch.optim as optim\n",
    "import torchvision.transforms as transforms\n",
    "import torch\n",
    "import cv2\n",
    "import numpy as np\n",
    "from torch.utils.tensorboard import SummaryWriter\n",
    "from torchvision import models as models\n",
    "import torch.nn as nn\n",
    "import torch.nn.functional as F\n",
    "from tqdm import tqdm\n",
    "from torch.utils.data import Dataset\n",
    "from numpy import argmax\n",
    "from sklearn.model_selection import train_test_split\n",
    "\n",
    "imagepath = 'C:/Users/thoma/Documents/Softwareudvikling/Deep_learning/Eksamensprojekt/kode/DeepLearning/DatasætDeeplearning/license_plates_detection_train/'\n",
    "csvpath = 'C:/Users/thoma/Documents/Softwareudvikling/Deep_learning/Eksamensprojekt/kode/DeepLearning/DatasætDeeplearning/license_plates_detection_train.csv'\n",
    "croppedImagesPath = 'C:/Users/thoma/Documents/Softwareudvikling/Deep_learning/Eksamensprojekt/kode/DeepLearning/DatasætDeeplearning/croppedImages/'\n",
    "trainingdatacsvpath = 'C:/Users/thoma/Documents/Softwareudvikling/Deep_learning/Eksamensprojekt/kode/DeepLearning/trainingdata.csv'\n",
    "predictioncsvpath = 'C:/Users/thoma/Documents/Softwareudvikling/Deep_learning/Eksamensprojekt/kode/DeepLearning/DatasætDeeplearning/license_plates_recognition_train.csv'\n",
    "\n",
    "#imagepath = 'C:/Users/chris/source/repos//DeepLearning/DatasætDeeplearning/license_plates_detection_train/'\n",
    "#csvpath = 'C:/Users//chris//source/repos//DeepLearning/DatasætDeeplearning/license_plates_detection_train.csv'\n",
    "#croppedImagesPath = 'C:/Users//chris//source/repos//DeepLearning/DatasætDeeplearning/croppedImages/'\n",
    "#trainingdatacsvpath = 'C:/Users/chris/source/repos//DeepLearning/DatasætDeeplearning/trainingdata.csv'\n",
    "#predictioncsvpath = 'C:/Users//chris/source/repos//DeepLearning/DatasætDeeplearning/license_plates_recognition_train.csv'\n"
   ]
  },
  {
   "cell_type": "code",
   "execution_count": 3,
   "metadata": {},
   "outputs": [],
   "source": [
    "#Opgave 1\n",
    "class ImageData:\n",
    "    def __init__(self, path, ymin, xmin, ymax, xmax):\n",
    "        self.path = path\n",
    "        self.xmin = xmin      \n",
    "        self.ymin = ymin        \n",
    "        self.xmax = xmax        \n",
    "        self.ymax = ymax"
   ]
  },
  {
   "cell_type": "code",
   "execution_count": 4,
   "metadata": {},
   "outputs": [],
   "source": [
    "def read_image_data():\n",
    "    file = open(csvpath)\n",
    "    csvreader = csv.reader(file)\n",
    "    rows = []\n",
    "    next(csvreader)\n",
    "    for row in csvreader:\n",
    "            id = ImageData(row[0], int(row[1]), int(row[2]), int(row[3]), int(row[4]))\n",
    "            rows.append(id)\n",
    "    file.close()\n",
    "    return rows\n"
   ]
  },
  {
   "cell_type": "code",
   "execution_count": 5,
   "metadata": {},
   "outputs": [],
   "source": [
    "os.makedirs(croppedImagesPath, exist_ok=True)\n",
    "\n",
    "def crop_images():\n",
    "    imageData = read_image_data()\n",
    "\n",
    "    for id in imageData:\n",
    "        im = Image.open(imagepath + id.path)\n",
    "        im = im.crop( (id.xmin, id.ymin, id.xmax, id.ymax) )\n",
    "        im.save(croppedImagesPath + id.path) \n",
    "        im.close()\n",
    "\n",
    "crop_images()"
   ]
  },
  {
   "cell_type": "code",
   "execution_count": 6,
   "metadata": {},
   "outputs": [],
   "source": [
    "#Opgave 2\n",
    "class PredictionData:\n",
    "    def __init__(self, path, licenseplate):\n",
    "        self.path = path\n",
    "        self.licenseplate = licenseplate"
   ]
  },
  {
   "cell_type": "code",
   "execution_count": 7,
   "metadata": {},
   "outputs": [],
   "source": [
    "def read_prediction_data():\n",
    "    file = open(predictioncsvpath)\n",
    "    csvreader = csv.reader(file)\n",
    "    rows = []\n",
    "    next(csvreader)\n",
    "    for row in csvreader:\n",
    "            pd = PredictionData(row[0], row[1])\n",
    "            rows.append(pd)\n",
    "    file.close()\n",
    "    return rows\n"
   ]
  },
  {
   "cell_type": "code",
   "execution_count": 8,
   "metadata": {},
   "outputs": [],
   "source": [
    "def onehot_encoding():\n",
    "    predictiondata = read_prediction_data()\n",
    "    numbers = '0123456789'\n",
    "    onehot_encoded = list()\n",
    "    header = ['img_id', 'text', '0', '1', '2', '3', '4', '5', '6', '7', '8', '9']\n",
    "\n",
    "    with open(trainingdatacsvpath, 'w', encoding='UTF8', newline='') as f:\n",
    "        writer = csv.writer(f)\n",
    "        writer.writerow(header)\n",
    "       \n",
    "\n",
    "        for data in predictiondata:\n",
    "            # Removes T and N from licenseplate\n",
    "            datatrimmed = data.licenseplate.replace('T', '')\n",
    "            datatrimmed = datatrimmed.replace('N', '')\n",
    "\n",
    "            char_to_int = dict((c, i) for i, c in enumerate(numbers))\n",
    "            # integer encode input data\n",
    "            integer_encoded = [char_to_int[char] for char in datatrimmed]\n",
    "            #print(integer_encoded)\n",
    "            # one hot encode\n",
    "            letter = [0 for _ in range(len(numbers))]\n",
    "            for value in integer_encoded:\n",
    "                letter[value] = 1\n",
    "            \n",
    "            letter.insert(0, data.path)\n",
    "            letter.insert(1, data.licenseplate)\n",
    "            writer.writerow(letter)\n",
    "            onehot_encoded.append(letter)\n",
    "\n",
    "onehot_encoding() \n",
    "    "
   ]
  },
  {
   "cell_type": "code",
   "execution_count": 9,
   "metadata": {},
   "outputs": [],
   "source": [
    "#Opgave 3\n",
    "with open(trainingdatacsvpath) as trainingcsv:\n",
    "    next(trainingcsv)\n",
    "    file_read = csv.reader(trainingcsv)\n",
    "    array = list(file_read)\n",
    "\n",
    "train, test = train_test_split(array,test_size=0.25,random_state=10) #Det unikke seed nummer er 10\n",
    "header = ['img_id', 'text', '0', '1', '2', '3', '4', '5', '6', '7', '8', '9']\n",
    "\n",
    "pd.DataFrame(test).to_csv(\"test.csv\",header=header,index=False)\n",
    "pd.DataFrame(train).to_csv(\"train.csv\",header=header,index=False)\n"
   ]
  },
  {
   "cell_type": "code",
   "execution_count": 10,
   "metadata": {},
   "outputs": [
    {
     "name": "stdout",
     "output_type": "stream",
     "text": [
      "CSV shape: (225, 12)\n",
      "CSV head:\n",
      "    img_id      text  0  1  2  3  4  5  6  7  8  9\n",
      "0  498.jpg  148T4932  0  1  1  1  1  0  0  0  1  1\n",
      "1  217.jpg  174T4999  0  1  0  0  1  0  0  1  0  1\n",
      "2  677.jpg  130T2637  1  1  1  1  0  0  1  1  0  0\n",
      "3  276.jpg  148T2903  1  1  1  1  1  0  0  0  1  1\n",
      "4  307.jpg  141T6603  1  1  0  1  1  0  1  0  0  0\n",
      "CSV tail:\n",
      "      img_id      text  0  1  2  3  4  5  6  7  8  9\n",
      "220  175.jpg  175T7944  0  1  0  0  1  1  0  1  0  1\n",
      "221  832.jpg   105T294  1  1  1  0  1  1  0  0  0  1\n",
      "222  703.jpg   89T4187  0  1  0  0  1  0  0  1  1  1\n",
      "223  764.jpg  156T4000  1  1  0  0  1  1  1  0  0  0\n",
      "224  395.jpg  189T8840  1  1  0  0  1  0  0  0  1  1\n"
     ]
    }
   ],
   "source": [
    "#Opgave 4\n",
    "def show_data_from_csv(csv_filepath: str):\n",
    "    csv_data = pd.read_csv(\"test.csv\")\n",
    "    print(\"CSV shape:\", csv_data.shape) \n",
    "    print(\"CSV head:\")\n",
    "    print(csv_data.head()) #det samme som csv_data[:5]\n",
    "    print(\"CSV tail:\")\n",
    "    print(csv_data.tail()) #det samme som csv_data[-5:]\n",
    "\n",
    "show_data_from_csv(\"test.csv\") #\"train.csv\"\n"
   ]
  },
  {
   "cell_type": "code",
   "execution_count": 11,
   "metadata": {},
   "outputs": [],
   "source": [
    "TRANSFORM_IMG = transforms.Compose([\n",
    "    transforms.Resize(25),\n",
    "    transforms.CenterCrop(25),\n",
    "    transforms.ToTensor(),\n",
    "    transforms.Normalize(mean=[0.485, 0.456, 0.406],\n",
    "                         std=[0.229, 0.224, 0.225] )\n",
    "    ])\n",
    "\n",
    "imagenet_data = torchvision.datasets.ImageFolder(root=\"DatasætDeeplearning/\",transform=TRANSFORM_IMG)\n",
    "\n",
    "trainloader = torch.utils.data.DataLoader(imagenet_data, batch_size=4,\n",
    "                                        shuffle=True, num_workers=0)\n",
    "\n",
    "\n",
    "testloader = torch.utils.data.DataLoader(test, batch_size=4,\n",
    "                                        shuffle=False, num_workers=0)"
   ]
  },
  {
   "cell_type": "code",
   "execution_count": 12,
   "metadata": {},
   "outputs": [],
   "source": [
    "# helper function to show an image\n",
    "# (used in the `plot_classes_preds` function below)\n",
    "def matplotlib_imshow(img, one_channel=False):\n",
    "    if one_channel: #Der er kun en kanal\n",
    "        img = img.mean(dim=0)\n",
    "    img = img / 2 + 0.5  #unnormalize, for at få den tilbage til den oprindelige til det neurale netværk (der kan godt udkommenteres)\n",
    "    npimg = img.numpy()\n",
    "    if one_channel: #Hvis der kun er en kanal blier det grå billeder \n",
    "        plt.imshow(npimg, cmap=\"Greys\")\n",
    "    else: #Hvis der er flere kanaler bliver det favet billeder \n",
    "        plt.imshow(np.transpose(npimg, (1, 2, 0)))"
   ]
  },
  {
   "cell_type": "code",
   "execution_count": 42,
   "metadata": {},
   "outputs": [],
   "source": [
    "class Model(nn.Module):\n",
    "    def __init__(self):\n",
    "        super(Model, self).__init__()\n",
    "        self.conv1 = nn.Conv2d(in_channels=3, out_channels=6, kernel_size=5)\n",
    "        self.pool = nn.MaxPool2d(2, 2)\n",
    "        self.conv2 = nn.Conv2d(in_channels=6, out_channels=16, kernel_size=5)\n",
    "        self.fc1 = nn.Linear(in_features=144, out_features=120)\n",
    "        self.fc2 = nn.Linear(in_features=120, out_features=84)\n",
    "        self.fc3 = nn.Linear(in_features=84, out_features=10)#linear layer som har input features 84 og output feature 10. \n",
    "\n",
    "        self.out = nn.Linear(in_features=60, out_features=10)\n",
    "\n",
    "    def forward(self, x):\n",
    "        x = self.pool(F.relu(self.conv1(x)))#max pooling med en pooling shape på 2x2 over det første 2D convolutional layer\n",
    "        x = self.pool(F.relu(self.conv2(x)))#max pooling med en pooling shape på 2x2 over det andet 2D convolutional layer\n",
    "        x = x.view(-1, 9 * 4 * 4) #Ændrer formen på tensors.\n",
    "        x = F.relu(self.fc1(x))#Linear layer bliver aktiveret via activation function \n",
    "        x = F.relu(self.fc2(x))#Linear layer bliver aktiveret via activation function \n",
    "        x = self.fc3(x)\n",
    "        return x\n",
    "\n",
    "\n",
    "model = Model()"
   ]
  },
  {
   "cell_type": "code",
   "execution_count": 18,
   "metadata": {},
   "outputs": [],
   "source": [
    "criterion = nn.CrossEntropyLoss() #Bliver brugt til classification Logits --> softmax --> out probabilities opdeling i classes\n",
    "optimizer = optim.SGD(model.parameters(), lr=0.001, momentum=0.9) "
   ]
  },
  {
   "cell_type": "code",
   "execution_count": 19,
   "metadata": {},
   "outputs": [],
   "source": [
    "writer = SummaryWriter('runs/numberplate_experiment_1') "
   ]
  },
  {
   "cell_type": "code",
   "execution_count": 43,
   "metadata": {},
   "outputs": [
    {
     "data": {
      "image/png": "[encoded data removed]",
      "text/plain": [
       "<Figure size 432x288 with 1 Axes>"
      ]
     },
     "metadata": {
      "needs_background": "light"
     },
     "output_type": "display_data"
    }
   ],
   "source": [
    "# get some random training images\n",
    "dataiter = iter(trainloader) #Opretter en iterator, hvor den tager trainloader som parameter\n",
    "images, labels = next(iter(trainloader))\n",
    "\n",
    "writer.add_graph(model, images) #Tilføjer grafdata, tager imode vores model (net) og modeldata (images), som pararmetre\n",
    "\n",
    "# create grid of images\n",
    "img_grid = torchvision.utils.make_grid(images) #Laver et grid af vores billeder iform af et tensor\n",
    "\n",
    "# show images\n",
    "matplotlib_imshow(img_grid, one_channel=True) #Kalder vores funktion, som vi har defineret højere oppe i koden\n",
    "\n",
    "# write to tensorboard\n",
    "writer.add_image('numberplate_images', img_grid) #Data tilføjes til vores tensorborad\n",
    "writer.close()"
   ]
  },
  {
   "cell_type": "code",
   "execution_count": 52,
   "metadata": {},
   "outputs": [
    {
     "name": "stdout",
     "output_type": "stream",
     "text": [
      "The tensorboard extension is already loaded. To reload it, use:\n",
      "  %reload_ext tensorboard\n"
     ]
    },
    {
     "data": {
      "text/plain": [
       "Reusing TensorBoard on port 6006 (pid 3392), started 7 days, 0:33:29 ago. (Use '!kill 3392' to kill it.)"
      ]
     },
     "metadata": {},
     "output_type": "display_data"
    },
    {
     "data": {
      "text/html": [
       "\n",
       "      <iframe id=\"tensorboard-frame-ff5bffcece3794b7\" width=\"100%\" height=\"800\" frameborder=\"0\">\n",
       "      </iframe>\n",
       "      <script>\n",
       "        (function() {\n",
       "          const frame = document.getElementById(\"tensorboard-frame-ff5bffcece3794b7\");\n",
       "          const url = new URL(\"http://localhost\");\n",
       "          const port = 6006;\n",
       "          if (port) {\n",
       "            url.port = port;\n",
       "          }\n",
       "          frame.src = url;\n",
       "        })();\n",
       "      </script>\n",
       "    "
      ],
      "text/plain": [
       "<IPython.core.display.HTML object>"
      ]
     },
     "metadata": {},
     "output_type": "display_data"
    }
   ],
   "source": [
    "# Look at training curves in tensorboard:\n",
    "%load_ext tensorboard \n",
    "%tensorboard --logdir runs"
   ]
  }
 ],
 "metadata": {
  "interpreter": {
   "hash": "c72a629dba5ae9edebcad565c17c3988d814021371aabb3db62cb04d2b10dbfe"
  },
  "kernelspec": {
   "display_name": "Python 3.9.7 ('base')",
   "language": "python",
   "name": "python3"
  },
  "language_info": {
   "codemirror_mode": {
    "name": "ipython",
    "version": 3
   },
   "file_extension": ".py",
   "mimetype": "text/x-python",
   "name": "python",
   "nbconvert_exporter": "python",
   "pygments_lexer": "ipython3",
   "version": "3.9.7"
  },
  "orig_nbformat": 4
 },
 "nbformat": 4,
 "nbformat_minor": 2
}

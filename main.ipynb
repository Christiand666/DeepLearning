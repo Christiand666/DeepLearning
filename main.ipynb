{
 "cells": [
  {
   "cell_type": "code",
   "execution_count": 6,
   "metadata": {},
   "outputs": [],
   "source": [
    "'''\n",
    "Vi importerer nødvendige biblioteker\n",
    "og definerer globale variabler med stinavne/filnavne \n",
    "'''\n",
    "from PIL import Image\n",
    "import csv\n",
    "import os\n",
    "from torch.utils.data import Dataset\n",
    "import pandas as pd\n",
    "from torchvision.io import read_image\n",
    "import matplotlib.pyplot as plt\n",
    "import torchvision\n",
    "from torch.utils.data import DataLoader\n",
    "import torch.optim as optim\n",
    "import torchvision.transforms as transforms\n",
    "import torch\n",
    "import cv2\n",
    "import numpy as np\n",
    "from torch.utils.tensorboard import SummaryWriter\n",
    "from torchvision import models as models\n",
    "import torch.nn as nn\n",
    "import torch.nn.functional as F\n",
    "from torch.utils.data import Dataset\n",
    "from numpy import argmax\n",
    "from sklearn.model_selection import train_test_split\n",
    "\n",
    "imagepath = 'C:/Users/thoma/Documents/Softwareudvikling/Deep_learning/Eksamensprojekt/kode/DeepLearning/DatasætDeeplearning/license_plates_detection_train/'\n",
    "csvpath = 'C:/Users/thoma/Documents/Softwareudvikling/Deep_learning/Eksamensprojekt/kode/DeepLearning/DatasætDeeplearning/license_plates_detection_train.csv'\n",
    "croppedImagesPath = 'C:/Users/thoma/Documents/Softwareudvikling/Deep_learning/Eksamensprojekt/kode/DeepLearning/DatasætDeeplearning/croppedImages/'\n",
    "trainingdatacsvpath = 'C:/Users/thoma/Documents/Softwareudvikling/Deep_learning/Eksamensprojekt/kode/DeepLearning/trainingdata.csv'\n",
    "predictioncsvpath = 'C:/Users/thoma/Documents/Softwareudvikling/Deep_learning/Eksamensprojekt/kode/DeepLearning/DatasætDeeplearning/license_plates_recognition_train.csv'\n",
    "#test\n",
    "\n",
    "\n",
    "#imagepath = 'C:/Users/chris/source/repos//DeepLearning/DatasætDeeplearning/license_plates_detection_train/'\n",
    "#csvpath = 'C:/Users//chris//source/repos//DeepLearning/DatasætDeeplearning/license_plates_detection_train.csv'\n",
    "#croppedImagesPath = 'C:/Users//chris//source/repos//DeepLearning/DatasætDeeplearning/croppedImages/'\n",
    "#trainingdatacsvpath = 'C:/Users/chris/source/repos//DeepLearning/DatasætDeeplearning/trainingdata.csv'\n",
    "#predictioncsvpath = 'C:/Users//chris/source/repos//DeepLearning/DatasætDeeplearning/license_plates_recognition_train.csv'\n"
   ]
  },
  {
   "cell_type": "code",
   "execution_count": 7,
   "metadata": {},
   "outputs": [],
   "source": [
    "'''\n",
    "DEL 1 - HELPER\n",
    "Vi definerer en klasse med billededata,\n",
    "som vi kan definere nye obkejter af\n",
    "'''\n",
    "class ImageData:\n",
    "    def __init__(self, path, ymin, xmin, ymax, xmax):\n",
    "        self.path = path\n",
    "        self.xmin = xmin      \n",
    "        self.ymin = ymin        \n",
    "        self.xmax = xmax        \n",
    "        self.ymax = ymax"
   ]
  },
  {
   "cell_type": "code",
   "execution_count": 8,
   "metadata": {},
   "outputs": [],
   "source": [
    "'''\n",
    "DEL 1 - HELPER\n",
    "En funktion som læser data fra .CSV fil, \n",
    "og opretter nye billededata objekter af denne data\n",
    "(.CSV filen indeholder data om, hvor nummerpladen sidder (XY-koordinater))\n",
    "'''\n",
    "def read_image_data():\n",
    "    file = open(csvpath)\n",
    "    csvreader = csv.reader(file)\n",
    "    rows = []\n",
    "    next(csvreader)\n",
    "    for row in csvreader:\n",
    "            imgdt = ImageData(row[0], int(row[1]), int(row[2]), int(row[3]), int(row[4]))\n",
    "            rows.append(imgdt)\n",
    "    file.close()\n",
    "    return rows\n"
   ]
  },
  {
   "cell_type": "code",
   "execution_count": 9,
   "metadata": {},
   "outputs": [],
   "source": [
    "'''\n",
    "DEL 1 - OPGAVE 1\n",
    "En funktion som læser billederne ind, \n",
    "og klipper nummerpladen ud,\n",
    "hvorefter de nye billeder gemmes i en ny mappe (croppedImages)\n",
    "'''\n",
    "def crop_images():\n",
    "    imageData = read_image_data()\n",
    "\n",
    "    for id in imageData:\n",
    "        im = Image.open(imagepath + id.path)\n",
    "        im = im.crop( (id.xmin, id.ymin, id.xmax, id.ymax) )\n",
    "        im.save(croppedImagesPath + id.path) \n",
    "        im.close()\n",
    "\n",
    "os.makedirs(croppedImagesPath, exist_ok=True)\n",
    "\n",
    "crop_images()"
   ]
  },
  {
   "cell_type": "code",
   "execution_count": 10,
   "metadata": {},
   "outputs": [],
   "source": [
    "'''\n",
    "DEL 1 - OPGAVE 2 \n",
    "Vi definerer en klasse,\n",
    "som kun indeholder billedets navn (filnavn) og nummerpladen (string)\n",
    "'''\n",
    "class PredictionData:\n",
    "    def __init__(self, path, licenseplate):\n",
    "        self.path = path\n",
    "        self.licenseplate = licenseplate"
   ]
  },
  {
   "cell_type": "code",
   "execution_count": 11,
   "metadata": {},
   "outputs": [],
   "source": [
    "'''\n",
    "DEL 1 - HELPER \n",
    "En funktion som læser data fra .CSV filen,\n",
    "og opretter nye objekter af PredictionData\n",
    "'''\n",
    "def read_prediction_data():\n",
    "    file = open(predictioncsvpath)\n",
    "    csvreader = csv.reader(file)\n",
    "    rows = []\n",
    "    next(csvreader)\n",
    "    for row in csvreader:\n",
    "            pd = PredictionData(row[0], row[1])\n",
    "            rows.append(pd)\n",
    "    file.close()\n",
    "    return rows\n"
   ]
  },
  {
   "cell_type": "code",
   "execution_count": 35,
   "metadata": {},
   "outputs": [],
   "source": [
    "'''\n",
    "DEL 1 - OPGAVE 2 \n",
    "En funktion som laver vores data om til one-hot-encoding, som gemmes i en ny .CSV fil.\n",
    "Vi behandler vores data, hvor one-hot-encoding deler vores data op i kategorier, \n",
    "som vores Deep learning algortime kan forstå.\n",
    "'''\n",
    "def onehot_encoding():\n",
    "    predictiondata = read_prediction_data()\n",
    "    numbers = '0123456789'\n",
    "    onehot_encoded = list()\n",
    "    header = ['img_id', 'text', '0', '1', '2', '3', '4', '5', '6', '7', '8', '9']\n",
    "\n",
    "    with open(trainingdatacsvpath, 'w', encoding='UTF8', newline='') as f:\n",
    "        writer = csv.writer(f)\n",
    "        writer.writerow(header)\n",
    "\n",
    "        for data in predictiondata:\n",
    "            # Vi fjerner T and N fra nummerpladen\n",
    "            datatrimmed = data.licenseplate.replace('T', '')\n",
    "            datatrimmed = datatrimmed.replace('N', '')\n",
    "\n",
    "            # Vi laver nummerpladen om til en liste af nummerene fra nummerpladen\n",
    "            char_to_int = dict((c, i) for i, c in enumerate(numbers))\n",
    "            integer_encoded = [char_to_int[char] for char in datatrimmed] \n",
    "            #print(integer_encoded)\n",
    "\n",
    "            # Vi laver nu one-hot-encode\n",
    "            # 1 bliver sat, hvis det eksisterer i nummerpladen\n",
    "            letter = [0 for _ in range(len(numbers))]\n",
    "            for value in integer_encoded:\n",
    "                letter[value] = 1\n",
    "            \n",
    "            # Billedets navn og den oprindelige nummerplade indsættes også i vores .CSV fil\n",
    "            letter.insert(0, data.path)\n",
    "            letter.insert(1, data.licenseplate)\n",
    "            \n",
    "            writer.writerow(letter)\n",
    "            onehot_encoded.append(letter)\n",
    "\n",
    "onehot_encoding() \n",
    "    "
   ]
  },
  {
   "cell_type": "code",
   "execution_count": 13,
   "metadata": {},
   "outputs": [],
   "source": [
    "'''\n",
    "DEL 1 - OPGAVE 3 \n",
    "Vi opdeler i et training set og et validation set,\n",
    "hvor vi angiver et seed, hvilket sikre at samme datasæt generes ved samme seed\n",
    "'''\n",
    "with open(trainingdatacsvpath) as trainingcsv:\n",
    "    next(trainingcsv)\n",
    "    file_read = csv.reader(trainingcsv)\n",
    "    array = list(file_read)\n",
    "\n",
    "train, test = train_test_split(array,test_size=0.25,random_state=10) #Det unikke seed nummer er 10\n",
    "header = ['img_id', 'text', '0', '1', '2', '3', '4', '5', '6', '7', '8', '9']\n",
    "\n",
    "# Vi tilføjer headers til vores data, tilføjer den til to nye .CSV filer\n",
    "pd.DataFrame(test).to_csv(\"test.csv\",header=header,index=False)\n",
    "pd.DataFrame(train).to_csv(\"train.csv\",header=header,index=False)\n"
   ]
  },
  {
   "cell_type": "code",
   "execution_count": 36,
   "metadata": {},
   "outputs": [
    {
     "name": "stdout",
     "output_type": "stream",
     "text": [
      "CSV shape: (225, 12)\n",
      "CSV head:\n",
      "    img_id      text  0  1  2  3  4  5  6  7  8  9\n",
      "0  498.jpg  148T4932  0  1  1  1  1  0  0  0  1  1\n",
      "1  217.jpg  174T4999  0  1  0  0  1  0  0  1  0  1\n",
      "2  677.jpg  130T2637  1  1  1  1  0  0  1  1  0  0\n",
      "3  276.jpg  148T2903  1  1  1  1  1  0  0  0  1  1\n",
      "4  307.jpg  141T6603  1  1  0  1  1  0  1  0  0  0\n",
      "CSV tail:\n",
      "      img_id      text  0  1  2  3  4  5  6  7  8  9\n",
      "220  175.jpg  175T7944  0  1  0  0  1  1  0  1  0  1\n",
      "221  832.jpg   105T294  1  1  1  0  1  1  0  0  0  1\n",
      "222  703.jpg   89T4187  0  1  0  0  1  0  0  1  1  1\n",
      "223  764.jpg  156T4000  1  1  0  0  1  1  1  0  0  0\n",
      "224  395.jpg  189T8840  1  1  0  0  1  0  0  0  1  1\n"
     ]
    }
   ],
   "source": [
    "'''\n",
    "DEL 1 - OPGAVE 4 \n",
    "Vi laver en funktion, som kan visualisere vores data.\n",
    "Der printes: \n",
    "    - shape (rækker, koloner)\n",
    "    - head (de første 5 rækker)\n",
    "    - tail (de sidste 5 rækker)\n",
    "'''\n",
    "def show_data_from_csv(csv_filepath: str):\n",
    "    csv_data = pd.read_csv(\"test.csv\")\n",
    "    print(\"CSV shape:\", csv_data.shape) \n",
    "    print(\"CSV head:\")\n",
    "    print(csv_data.head()) #det samme som csv_data[:5]\n",
    "    print(\"CSV tail:\")\n",
    "    print(csv_data.tail()) #det samme som csv_data[-5:]\n",
    "\n",
    "show_data_from_csv(\"test.csv\") #\"train.csv\"\n"
   ]
  },
  {
   "cell_type": "code",
   "execution_count": 15,
   "metadata": {},
   "outputs": [],
   "source": [
    "TRANSFORM_IMG = transforms.Compose([\n",
    "    transforms.Resize(25),\n",
    "    transforms.CenterCrop(25),\n",
    "    transforms.ToTensor(),\n",
    "    transforms.Normalize(mean=[0.485, 0.456, 0.406], # \n",
    "                         std=[0.229, 0.224, 0.225] ) # Standard afvigelsen\n",
    "    ])\n",
    "\n",
    "imagenet_data = torchvision.datasets.ImageFolder(root=\"DatasætDeeplearning/\",transform=TRANSFORM_IMG)\n",
    "\n",
    "trainloader = torch.utils.data.DataLoader(imagenet_data, batch_size=4,\n",
    "                                        shuffle=True, num_workers=2)\n",
    "\n",
    "\n",
    "testloader = torch.utils.data.DataLoader(test, batch_size=4,\n",
    "                                        shuffle=False, num_workers=2)\n",
    "\n",
    "classes = ('img_id', 'text' ,'0', '1', '2', '3', '4',\n",
    "        '5', '6', '7', '8', '9')\n"
   ]
  },
  {
   "cell_type": "code",
   "execution_count": 16,
   "metadata": {},
   "outputs": [],
   "source": [
    "# helper function to show an image\n",
    "# (used in the `plot_classes_preds` function below)\n",
    "def matplotlib_imshow(img, one_channel=False):\n",
    "    if one_channel: #Der er kun en kanal\n",
    "        img = img.mean(dim=0)\n",
    "    img = img / 2 + 0.5  #unnormalize, for at få den tilbage til den oprindelige til det neurale netværk (der kan godt udkommenteres)\n",
    "    npimg = img.numpy()\n",
    "    if one_channel: #Hvis der kun er en kanal blier det grå billeder \n",
    "        plt.imshow(npimg, cmap=\"Greys\")\n",
    "    else: #Hvis der er flere kanaler bliver det favet billeder \n",
    "        plt.imshow(np.transpose(npimg, (1, 2, 0)))"
   ]
  },
  {
   "cell_type": "code",
   "execution_count": 17,
   "metadata": {},
   "outputs": [],
   "source": [
    "class Model(nn.Module):\n",
    "    def __init__(self):\n",
    "        super(Model, self).__init__()\n",
    "        self.conv1 = nn.Conv2d(in_channels=3, out_channels=6, kernel_size=5)\n",
    "        self.pool = nn.MaxPool2d(2, 2)\n",
    "        self.conv2 = nn.Conv2d(in_channels=6, out_channels=16, kernel_size=5)\n",
    "        self.fc1 = nn.Linear(in_features=144, out_features=120)\n",
    "        self.fc2 = nn.Linear(in_features=120, out_features=84)\n",
    "        self.fc3 = nn.Linear(in_features=84, out_features=10)#linear layer som har input features 84 og output feature 10. \n",
    "\n",
    "        self.out = nn.Linear(in_features=60, out_features=10)\n",
    "\n",
    "    def forward(self, x):\n",
    "        x = self.pool(F.relu(self.conv1(x)))#max pooling med en pooling shape på 2x2 over det første 2D convolutional layer\n",
    "        x = self.pool(F.relu(self.conv2(x)))#max pooling med en pooling shape på 2x2 over det andet 2D convolutional layer\n",
    "        x = x.view(-1, 9 * 4 * 4) #Ændrer formen på tensors.\n",
    "        x = F.relu(self.fc1(x))#Linear layer bliver aktiveret via activation function \n",
    "        x = F.relu(self.fc2(x))#Linear layer bliver aktiveret via activation function \n",
    "        x = self.fc3(x)\n",
    "        return x\n",
    "\n",
    "\n",
    "model = Model()"
   ]
  },
  {
   "cell_type": "code",
   "execution_count": 18,
   "metadata": {},
   "outputs": [],
   "source": [
    "criterion = nn.CrossEntropyLoss() #Bliver brugt til classification Logits --> softmax --> out probabilities opdeling i classes\n",
    "optimizer = optim.SGD(model.parameters(), lr=0.001, momentum=0.9) "
   ]
  },
  {
   "cell_type": "code",
   "execution_count": 19,
   "metadata": {},
   "outputs": [],
   "source": [
    "writer = SummaryWriter('runs/numberplate_experiment_1') "
   ]
  },
  {
   "cell_type": "code",
   "execution_count": 20,
   "metadata": {},
   "outputs": [
    {
     "data": {
      "image/png": "[encoded data removed]",
      "text/plain": [
       "<Figure size 432x288 with 1 Axes>"
      ]
     },
     "metadata": {
      "needs_background": "light"
     },
     "output_type": "display_data"
    }
   ],
   "source": [
    "# get some random training images\n",
    "dataiter = iter(trainloader) #Opretter en iterator, hvor den tager trainloader som parameter\n",
    "images, labels = next(iter(trainloader))\n",
    "\n",
    "writer.add_graph(model, images) #Tilføjer grafdata, tager imode vores model (net) og modeldata (images), som pararmetre\n",
    "\n",
    "# create grid of images\n",
    "img_grid = torchvision.utils.make_grid(images) #Laver et grid af vores billeder iform af et tensor\n",
    "\n",
    "# show images\n",
    "matplotlib_imshow(img_grid, one_channel=True) #Kalder vores funktion, som vi har defineret højere oppe i koden\n",
    "\n",
    "# write to tensorboard\n",
    "writer.add_image('numberplate_images', img_grid) #Data tilføjes til vores tensorborad\n",
    "writer.close()"
   ]
  },
  {
   "cell_type": "code",
   "execution_count": 21,
   "metadata": {},
   "outputs": [],
   "source": [
    "# helper functions\n",
    "\n",
    "def images_to_probs(net, images): \n",
    "    '''\n",
    "    Genererer forudsigelser og tilsvarende sandsynligheder fra en trænet\n",
    "     netværk og en liste over billeder\n",
    "    '''\n",
    "    output = net(images)\n",
    "    # konvertere output sandsynligheder til forudsagt klasse\n",
    "    _, preds_tensor = torch.max(output, 1)\n",
    "    preds = np.squeeze(preds_tensor.numpy()) #Fjerner enkeltdimensionelle indgange fra formen af et array\n",
    "    return preds, [F.softmax(el, dim=0)[i].item() for i, el in zip(preds, output)]\n",
    "    # softmax konverterer en vektor af tal til en vektor af sandsynligheder, hvor sandsynligheden for hver værdi er proportional med den relative skala af hver værdi i vektoren. \n",
    "    #Zip()-funktionen tager iterables (kan være nul eller flere), samler dem i en tupel og returnerer den\n",
    "\n",
    "\n",
    "def plot_classes_preds(net, images, labels):\n",
    "    '''\n",
    "    Genererer matplotlib-figur ved hjælp af et trænet netværk sammen med billeder\n",
    "     og etiketter fra en batch, der viser netværkets bedste forudsigelse\n",
    "     med dens sandsynlighed, sammen med den faktiske etiket, farve denne\n",
    "     information baseret på, om forudsigelsen var korrekt eller ej.\n",
    "     Bruger funktionen \"images_to_probs\".\n",
    "    '''\n",
    "    preds, probs = images_to_probs(net, images)\n",
    "    # plot billederne i batchen sammen med forudsagte og sande etiketter\n",
    "    fig = plt.figure(figsize=(12, 48))\n",
    "    for idx in np.arange(4):\n",
    "        ax = fig.add_subplot(1, 4, idx+1, xticks=[], yticks=[])\n",
    "        matplotlib_imshow(images[idx], one_channel=True)\n",
    "        ax.set_title(\"{0}, {1:.1f}%\\n(label: {2})\".format(\n",
    "            classes[preds[idx]],\n",
    "            probs[idx] * 100.0,\n",
    "            classes[labels[idx]]),\n",
    "                    color=(\"green\" if preds[idx]==labels[idx].item() else \"red\"))\n",
    "                    #Den sammenligner sandsynligheden med billederne og labels \n",
    "                    #grøn jo mere sandsynlig den er og rød hvis den er mindre sandsynlig kan ses når vi køre koden\n",
    "\n",
    "    return fig"
   ]
  },
  {
   "cell_type": "code",
   "execution_count": 41,
   "metadata": {},
   "outputs": [
    {
     "name": "stdout",
     "output_type": "stream",
     "text": [
      "The tensorboard extension is already loaded. To reload it, use:\n",
      "  %reload_ext tensorboard\n"
     ]
    },
    {
     "data": {
      "text/plain": [
       "Reusing TensorBoard on port 6006 (pid 16132), started 1 day, 0:48:23 ago. (Use '!kill 16132' to kill it.)"
      ]
     },
     "metadata": {},
     "output_type": "display_data"
    },
    {
     "data": {
      "text/html": [
       "\n",
       "      <iframe id=\"tensorboard-frame-1f5f7e1f384e758\" width=\"100%\" height=\"800\" frameborder=\"0\">\n",
       "      </iframe>\n",
       "      <script>\n",
       "        (function() {\n",
       "          const frame = document.getElementById(\"tensorboard-frame-1f5f7e1f384e758\");\n",
       "          const url = new URL(\"http://localhost\");\n",
       "          const port = 6006;\n",
       "          if (port) {\n",
       "            url.port = port;\n",
       "          }\n",
       "          frame.src = url;\n",
       "        })();\n",
       "      </script>\n",
       "    "
      ],
      "text/plain": [
       "<IPython.core.display.HTML object>"
      ]
     },
     "metadata": {},
     "output_type": "display_data"
    }
   ],
   "source": [
    "%load_ext tensorboard\n",
    "%tensorboard --logdir {logs_base_dir}  --host localhost\n",
    "\n",
    "#%load_ext tensorboard\n",
    "#%tensorboard --logdir logs"
   ]
  },
  {
   "cell_type": "code",
   "execution_count": 23,
   "metadata": {},
   "outputs": [
    {
     "name": "stdout",
     "output_type": "stream",
     "text": [
      "Finished Training\n"
     ]
    }
   ],
   "source": [
    "running_loss = 0.0\n",
    "for epoch in range(1):  # looper over dataset 1 gang\n",
    "\n",
    "    for i, data in enumerate(trainloader, 0): #looper igennem data fra vores trainloader\n",
    "\n",
    "        # get the inputs; data is a list of [inputs, labels]\n",
    "        inputs, labels = data #inputs og labels er tensors\n",
    "\n",
    "        # zero the parameter gradients\n",
    "        optimizer.zero_grad() #Vores gradient bliver resat (sættes til 0)\n",
    "\n",
    "        # forward + backward + optimize\n",
    "        outputs = model(inputs)\n",
    "        loss = criterion(outputs, labels) #Forward -> beregner output tensors ved brug af input tensors\n",
    "        loss.backward() #Beregner gradienten udfra output tensors\n",
    "        optimizer.step() #Optimizeren itererer over parametrene/vores tensors og opdaterer deres gradient \n",
    "\n",
    "        running_loss += loss.item()\n",
    "        if i % 1000 == 999:    # every 1000 mini-batches...\n",
    "\n",
    "            # ...log the running loss\n",
    "            #Tilføjer scalar data til vores tensorboard\n",
    "            writer.add_scalar('training loss',\n",
    "                            running_loss / 1000,\n",
    "                            epoch * len(trainloader) + i)\n",
    "\n",
    "            # ...log a Matplotlib Figure showing the model's predictions on a\n",
    "            # random mini-batch\n",
    "            writer.add_figure('predictions vs. actuals',\n",
    "                            plot_classes_preds(model, inputs, labels),\n",
    "                            global_step=epoch * len(trainloader) + i)\n",
    "            running_loss = 0.0\n",
    "print('Finished Training')"
   ]
  }
 ],
 "metadata": {
  "interpreter": {
   "hash": "c72a629dba5ae9edebcad565c17c3988d814021371aabb3db62cb04d2b10dbfe"
  },
  "kernelspec": {
   "display_name": "Python 3.9.7 ('base')",
   "language": "python",
   "name": "python3"
  },
  "language_info": {
   "codemirror_mode": {
    "name": "ipython",
    "version": 3
   },
   "file_extension": ".py",
   "mimetype": "text/x-python",
   "name": "python",
   "nbconvert_exporter": "python",
   "pygments_lexer": "ipython3",
   "version": "3.9.7"
  },
  "orig_nbformat": 4
 },
 "nbformat": 4,
 "nbformat_minor": 2
}

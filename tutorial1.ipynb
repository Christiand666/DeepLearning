{
 "cells": [
  {
   "cell_type": "code",
   "execution_count": 1,
   "metadata": {},
   "outputs": [],
   "source": [
    "# imports\n",
    "import matplotlib.pyplot as plt\n",
    "import numpy as np\n",
    "\n",
    "import torch\n",
    "import torchvision\n",
    "import torchvision.transforms as transforms\n",
    "\n",
    "import torch.nn as nn\n",
    "import torch.nn.functional as F\n",
    "import torch.optim as optim\n",
    "\n",
    "# transforms\n",
    "transform = transforms.Compose(\n",
    "    [transforms.ToTensor(),#Konverterer billederne til Pytorch tensors\n",
    "    transforms.Normalize((0.5,), (0.5,))]) #Normaliserer/gør dataen mindre ved brug af mean (gennemsnittet)\n",
    "\n",
    "# datasets \n",
    "trainset = torchvision.datasets.FashionMNIST('./data', # Trainset peger på, hvilket root til mappen den skal gemmes til\n",
    "    download=True, # Download hvis True, downloader datasættet fra internettet og sætter den i rodmappen Hvis datasættet allerede er downloadet, downloades det ikke igen.\n",
    "    train=True, # Dette dataset er sat til true i det skal bruges til trænigns sættet \n",
    "    transform=transform # En funktion/transformation, der tager et PIL-billede ind og returnerer en transformeret version \n",
    "    ) \n",
    "testset = torchvision.datasets.FashionMNIST('./data',\n",
    "    download=True,\n",
    "    train=False,\n",
    "    transform=transform)\n",
    "\n",
    "    \n",
    "# dataloaders\n",
    "\n",
    "#Dataloader klassen tager imod  træningsættet, batch_size, shuffle og num_workers som argument\n",
    "\n",
    "#Trainset er træningsættet vi bruger, i dette tilfælde fra en eksisterende træningsæt fra fashionmnist\n",
    "\n",
    "#Batch_size er antallet af prøver for hvergang man træner sin model. I dette tilfælde er det 4 billeder man træner af gangen\n",
    "\n",
    "#Shuffle er når man blander værdierne i datasættet\n",
    "\n",
    "#Numworkers fortæller dataloader hvor mange sub-processer der skal bruges i forbindelse med loading af dat\n",
    "trainloader = torch.utils.data.DataLoader(trainset, batch_size=4,\n",
    "                                        shuffle=True, num_workers=0)\n",
    "\n",
    "\n",
    "testloader = torch.utils.data.DataLoader(testset, batch_size=4,\n",
    "                                        shuffle=False, num_workers=0)\n",
    "\n",
    "# constant for classes\n",
    "classes = ('T-shirt/top', 'Trouser', 'Pullover', 'Dress', 'Coat',\n",
    "        'Sandal', 'Shirt', 'Sneaker', 'Bag', 'Ankle Boot')\n",
    "\n",
    "# helper function to show an image\n",
    "# (used in the `plot_classes_preds` function below)\n",
    "def matplotlib_imshow(img, one_channel=False):\n",
    "    if one_channel: #Der er kun en kanal\n",
    "        img = img.mean(dim=0)\n",
    "    img = img / 2 + 0.5  #unnormalize, for at få den tilbage til den oprindelige til det neurale netværk (der kan godt udkommenteres)\n",
    "    npimg = img.numpy()\n",
    "    if one_channel: #Hvis der kun er en kanal blier det grå billeder \n",
    "        plt.imshow(npimg, cmap=\"Greys\")\n",
    "    else: #Hvis der er flere kanaler bliver det favet billeder \n",
    "        plt.imshow(np.transpose(npimg, (1, 2, 0)))"
   ]
  },
  {
   "cell_type": "code",
   "execution_count": 2,
   "metadata": {},
   "outputs": [],
   "source": [
    "class Net(nn.Module):\n",
    "    def __init__(self):\n",
    "        super(Net, self).__init__()\n",
    "        self.conv1 = nn.Conv2d(1, 6, 5) #(2D Convolution Layer)\n",
    "        self.pool = nn.MaxPool2d(2, 2) #Reducerer antal pixels ved at tage det højest inden for feltet 2x2\n",
    "        self.conv2 = nn.Conv2d(6, 16, 5)#(2D Convolution Layer)\n",
    "        self.fc1 = nn.Linear(16 * 4 * 4, 120)#linear layer som har input features 16*4*4 og output feature 120. \n",
    "        self.fc2 = nn.Linear(120, 84)#linear layer som har input feature 120 og output feature 84. \n",
    "        self.fc3 = nn.Linear(84, 10)#linear layer som har input features 84 og output feature 10. \n",
    "\n",
    "    def forward(self, x):\n",
    "        x = self.pool(F.relu(self.conv1(x)))#max pooling med en pooling shape på 2x2 over det første 2D convolutional layer\n",
    "        x = self.pool(F.relu(self.conv2(x)))#max pooling med en pooling shape på 2x2 over det andet 2D convolutional layer\n",
    "        x = x.view(-1, 16 * 4 * 4) #Ændrer formen på tensors.\n",
    "        x = F.relu(self.fc1(x))#Linear layer bliver aktiveret via activation function \n",
    "        x = F.relu(self.fc2(x))#Linear layer bliver aktiveret via activation function \n",
    "        x = self.fc3(x)\n",
    "        return x\n",
    "\n",
    "\n",
    "net = Net()"
   ]
  },
  {
   "cell_type": "code",
   "execution_count": 3,
   "metadata": {},
   "outputs": [],
   "source": [
    "criterion = nn.CrossEntropyLoss() #Bliver brugt til classification Logits --> softmax --> out probabilities opdeling i classes\n",
    "optimizer = optim.SGD(net.parameters(), lr=0.001, momentum=0.9) \n",
    "#lr En Tensor der ikke tager nogen argumenter og returnerer den faktiske værdi, der skal bruges. Indlæringshastigheden. Standard er 0,01. \n",
    "# momentum hjælper med at accelerere gradientvektorer i de rigtige retninger, hvilket fører til hurtigere konvergering"
   ]
  },
  {
   "cell_type": "code",
   "execution_count": 4,
   "metadata": {},
   "outputs": [],
   "source": [
    "from torch.utils.tensorboard import SummaryWriter\n",
    "\n",
    "# default `log_dir` is \"runs\" - we'll be more specific here\n",
    "writer = SummaryWriter('runs/fashion_mnist_experiment_1') \n",
    "# smider log_dir filerne over til runs mappen som bliver lavet og brugt til outputet i næste trin\n",
    "\n"
   ]
  },
  {
   "cell_type": "code",
   "execution_count": 5,
   "metadata": {},
   "outputs": [
    {
     "data": {
      "image/png": "[encoded data removed]",
      "text/plain": [
       "<Figure size 432x288 with 1 Axes>"
      ]
     },
     "metadata": {
      "needs_background": "light"
     },
     "output_type": "display_data"
    }
   ],
   "source": [
    "# get some random training images\n",
    "dataiter = iter(trainloader) #Opretter en iterator, hvor den tager trainloader som parameter\n",
    "images, labels = dataiter.next() #Der køres en iteration\n",
    "\n",
    "writer.add_graph(net, images) #Tilføjer grafdata, tager imode vores model (net) og modeldata (images), som pararmetre\n",
    "\n",
    "# create grid of images\n",
    "img_grid = torchvision.utils.make_grid(images) #Laver et grid af vores billeder iform af et tensor\n",
    "\n",
    "# show images\n",
    "matplotlib_imshow(img_grid, one_channel=True) #Kalder vores funktion, som vi har defineret højere oppe i koden\n",
    "\n",
    "# write to tensorboard\n",
    "writer.add_image('four_fashion_mnist_images', img_grid) #Data tilføjes til vores tensorborad\n",
    "writer.close()"
   ]
  },
  {
   "cell_type": "code",
   "execution_count": 6,
   "metadata": {},
   "outputs": [
    {
     "data": {
      "text/plain": [
       "Reusing TensorBoard on port 6006 (pid 3392), started 7 days, 2:48:23 ago. (Use '!kill 3392' to kill it.)"
      ]
     },
     "metadata": {},
     "output_type": "display_data"
    },
    {
     "data": {
      "text/html": [
       "\n",
       "      <iframe id=\"tensorboard-frame-7f6867e5e3fb1666\" width=\"100%\" height=\"800\" frameborder=\"0\">\n",
       "      </iframe>\n",
       "      <script>\n",
       "        (function() {\n",
       "          const frame = document.getElementById(\"tensorboard-frame-7f6867e5e3fb1666\");\n",
       "          const url = new URL(\"http://localhost\");\n",
       "          const port = 6006;\n",
       "          if (port) {\n",
       "            url.port = port;\n",
       "          }\n",
       "          frame.src = url;\n",
       "        })();\n",
       "      </script>\n",
       "    "
      ],
      "text/plain": [
       "<IPython.core.display.HTML object>"
      ]
     },
     "metadata": {},
     "output_type": "display_data"
    }
   ],
   "source": [
    "# Look at training curves in tensorboard:\n",
    "%load_ext tensorboard \n",
    "%tensorboard --logdir runs"
   ]
  },
  {
   "cell_type": "code",
   "execution_count": 7,
   "metadata": {},
   "outputs": [],
   "source": [
    "def select_n_random(data, labels, n=100): #Yusuf\n",
    "   \n",
    "    #Der vælges n random datapoints og deres tilsvarende labels fra et dataset\n",
    "    assert len(data) == len(labels)\n",
    "\n",
    "    perm = torch.randperm(len(data))\n",
    "    return data[perm][:n], labels[perm][:n]\n",
    "\n",
    "# Vælger random billeder og deres mål indekser\n",
    "images, labels = select_n_random(trainset.data, trainset.targets)\n",
    "\n",
    "# modtager klasse label for hver billede\n",
    "class_labels = [classes[lab] for lab in labels]\n",
    "\n",
    "# Log indlejring\n",
    "features = images.view(-1, 28 * 28)\n",
    "writer.add_embedding(features,\n",
    "                    metadata=class_labels,\n",
    "                    label_img=images.unsqueeze(1))\n",
    "writer.close()"
   ]
  },
  {
   "cell_type": "code",
   "execution_count": 8,
   "metadata": {},
   "outputs": [],
   "source": [
    "# helper functions\n",
    "\n",
    "def images_to_probs(net, images): \n",
    "    '''\n",
    "    Genererer forudsigelser og tilsvarende sandsynligheder fra en trænet\n",
    "     netværk og en liste over billeder\n",
    "    '''\n",
    "    output = net(images)\n",
    "    # konvertere output sandsynligheder til forudsagt klasse\n",
    "    _, preds_tensor = torch.max(output, 1)\n",
    "    preds = np.squeeze(preds_tensor.numpy()) #Fjerner enkeltdimensionelle indgange fra formen af et array\n",
    "    return preds, [F.softmax(el, dim=0)[i].item() for i, el in zip(preds, output)]\n",
    "    # softmax konverterer en vektor af tal til en vektor af sandsynligheder, hvor sandsynligheden for hver værdi er proportional med den relative skala af hver værdi i vektoren. \n",
    "    #Zip()-funktionen tager iterables (kan være nul eller flere), samler dem i en tupel og returnerer den\n",
    "\n",
    "\n",
    "def plot_classes_preds(net, images, labels):\n",
    "    '''\n",
    "    Genererer matplotlib-figur ved hjælp af et trænet netværk sammen med billeder\n",
    "     og etiketter fra en batch, der viser netværkets bedste forudsigelse\n",
    "     med dens sandsynlighed, sammen med den faktiske etiket, farve denne\n",
    "     information baseret på, om forudsigelsen var korrekt eller ej.\n",
    "     Bruger funktionen \"images_to_probs\".\n",
    "    '''\n",
    "    preds, probs = images_to_probs(net, images)\n",
    "    # plot billederne i batchen sammen med forudsagte og sande etiketter\n",
    "    fig = plt.figure(figsize=(12, 48))\n",
    "    for idx in np.arange(4):\n",
    "        ax = fig.add_subplot(1, 4, idx+1, xticks=[], yticks=[])\n",
    "        matplotlib_imshow(images[idx], one_channel=True)\n",
    "        ax.set_title(\"{0}, {1:.1f}%\\n(label: {2})\".format(\n",
    "            classes[preds[idx]],\n",
    "            probs[idx] * 100.0,\n",
    "            classes[labels[idx]]),\n",
    "                    color=(\"green\" if preds[idx]==labels[idx].item() else \"red\"))\n",
    "                    #Den sammenligner sandsynligheden med billederne og labels \n",
    "                    #grøn jo mere sandsynlig den er og rød hvis den er mindre sandsynlig kan ses når vi køre koden\n",
    "\n",
    "    return fig"
   ]
  },
  {
   "cell_type": "code",
   "execution_count": 9,
   "metadata": {},
   "outputs": [
    {
     "name": "stdout",
     "output_type": "stream",
     "text": [
      "Finished Training\n"
     ]
    }
   ],
   "source": [
    "running_loss = 0.0\n",
    "for epoch in range(1):  # looper over dataset 1 gang\n",
    "\n",
    "    for i, data in enumerate(trainloader, 0): #looper igennem data fra vores trainloader\n",
    "\n",
    "        # get the inputs; data is a list of [inputs, labels]\n",
    "        inputs, labels = data #inputs og labels er tensors\n",
    "\n",
    "        # zero the parameter gradients\n",
    "        optimizer.zero_grad() #Vores gradient bliver resat (sættes til 0)\n",
    "\n",
    "        # forward + backward + optimize\n",
    "        outputs = net(inputs)\n",
    "        loss = criterion(outputs, labels) #Forward -> beregner output tensors ved brug af input tensors\n",
    "        loss.backward() #Beregner gradienten udfra output tensors\n",
    "        optimizer.step() #Optimizeren itererer over parametrene/vores tensors og opdaterer deres gradient \n",
    "\n",
    "        running_loss += loss.item()\n",
    "        if i % 1000 == 999:    # every 1000 mini-batches...\n",
    "\n",
    "            # ...log the running loss\n",
    "            #Tilføjer scalar data til vores tensorboard\n",
    "            writer.add_scalar('training loss',\n",
    "                            running_loss / 1000,\n",
    "                            epoch * len(trainloader) + i)\n",
    "\n",
    "            # ...log a Matplotlib Figure showing the model's predictions on a\n",
    "            # random mini-batch\n",
    "            writer.add_figure('predictions vs. actuals',\n",
    "                            plot_classes_preds(net, inputs, labels),\n",
    "                            global_step=epoch * len(trainloader) + i)\n",
    "            running_loss = 0.0\n",
    "print('Finished Training')"
   ]
  },
  {
   "cell_type": "code",
   "execution_count": 10,
   "metadata": {},
   "outputs": [],
   "source": [
    "# 1. gets the probability predictions in a test_size x num_classes Tensor\n",
    "# 2. gets the preds in a test_size Tensor\n",
    "# takes ~10 seconds to run\n",
    "class_probs = [] #Array bliver skabt\n",
    "class_label = [] #Array bliver skabt\n",
    "with torch.no_grad():#Deaktivering af gradient beregning\n",
    "    for data in testloader:#Data bliver loadet ind i testloader klassen med labels og images\n",
    "        images, labels = data\n",
    "        output = net(images)\n",
    "        class_probs_batch = [F.softmax(el, dim=0) for el in output]#Activation function som skalerer numre ind til sandsynligheder\n",
    "\n",
    "        class_probs.append(class_probs_batch)#Class_probs_batch tilføjes ind til class_probs arrayet\n",
    "        class_label.append(labels) #labels bliver tilføjet ind til class_label arrayet.\n",
    "\n",
    "test_probs = torch.cat([torch.stack(batch) for batch in class_probs])#Iteres over class_probs arrayet hvor sandsynlighederne bliver sammenkædet \n",
    "test_label = torch.cat(class_label) #sammenkædning af labels\n",
    "\n",
    "# helper function\n",
    "def add_pr_curve_tensorboard(class_index, test_probs, test_label, global_step=0):\n",
    "   \n",
    "    #Klasse index bliver taget fra 0 til 9 og den curve der tilhører den\n",
    "   \n",
    "    tensorboard_truth = test_label == class_index\n",
    "    tensorboard_probs = test_probs[:, class_index]\n",
    "\n",
    "    writer.add_pr_curve(classes[class_index],\n",
    "                        tensorboard_truth,\n",
    "                        tensorboard_probs,\n",
    "                        global_step=global_step)\n",
    "    writer.close()\n",
    "\n",
    "# alle pr curves bliver plottet ind\n",
    "for i in range(len(classes)):\n",
    "    add_pr_curve_tensorboard(i, test_probs, test_label)"
   ]
  }
 ],
 "metadata": {
  "interpreter": {
   "hash": "4e45a42a02399ef7d405ae537aa782b13f90516b24d23472bed56c0be54a5ad5"
  },
  "kernelspec": {
   "display_name": "Python 3.9.7 ('base')",
   "language": "python",
   "name": "python3"
  },
  "language_info": {
   "codemirror_mode": {
    "name": "ipython",
    "version": 3
   },
   "file_extension": ".py",
   "mimetype": "text/x-python",
   "name": "python",
   "nbconvert_exporter": "python",
   "pygments_lexer": "ipython3",
   "version": "3.9.7"
  },
  "orig_nbformat": 4
 },
 "nbformat": 4,
 "nbformat_minor": 2
}

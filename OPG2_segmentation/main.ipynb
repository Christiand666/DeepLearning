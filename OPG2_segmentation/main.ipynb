{
 "cells": [
  {
   "cell_type": "code",
   "execution_count": 1,
   "metadata": {},
   "outputs": [],
   "source": [
    "'''\n",
    "Vi importerer nødvendige biblioteker\n",
    "og definerer globale variabler med stinavne/filnavne \n",
    "'''\n",
    "from PIL import Image, ImageDraw\n",
    "import csv\n",
    "import os\n",
    "from torch.utils.data import Dataset\n",
    "import pandas as pd\n",
    "from torchvision.io import read_image\n",
    "import matplotlib.pyplot as plt\n",
    "import torchvision\n",
    "from torch.utils.data import DataLoader\n",
    "import torch.optim as optim\n",
    "import torchvision.transforms as transforms\n",
    "import torch\n",
    "from cv2 import cv2\n",
    "import numpy as np\n",
    "from torch.utils.tensorboard import SummaryWriter\n",
    "from torchvision import models as models\n",
    "import torch.nn as nn\n",
    "import torch.nn.functional as F\n",
    "from torch.utils.data import Dataset\n",
    "from numpy import argmax\n",
    "from sklearn.model_selection import train_test_split\n",
    "import glob\n",
    "import shutil\n",
    "from sklearn.metrics import f1_score\n",
    "import argparse\n",
    "\n",
    "\n",
    "imagepath = 'C:/Users/thoma/Documents/Softwareudvikling/Deep_learning/Eksamensprojekt/kode/DeepLearning/DatasetDeeplearning/license_plates_detection_train/'\n",
    "csvpath = 'C:/Users/thoma/Documents/Softwareudvikling/Deep_learning/Eksamensprojekt/kode/DeepLearning/DatasetDeeplearning/license_plates_detection_train.csv'\n",
    "croppedImagesPath = 'C:/Users/thoma/Documents/Softwareudvikling/Deep_learning/Eksamensprojekt/kode/DeepLearning/DatasetDeeplearning/croppedImages/'\n",
    "trainingdatacsvpath = 'C:/Users/thoma/Documents/Softwareudvikling/Deep_learning/Eksamensprojekt/kode/DeepLearning/trainingdata.csv'\n",
    "predictioncsvpath = 'C:/Users/thoma/Documents/Softwareudvikling/Deep_learning/Eksamensprojekt/kode/DeepLearning/DatasetDeeplearning/license_plates_recognition_train.csv'\n",
    "testFolder = 'DatasetDeeplearning/TestImages/'\n",
    "trainFolder = 'DatasetDeeplearning/TestImages/'\n",
    "\n",
    "#imagepath = 'C:/Users/yusuf/Documents/GitHub/DeepLearning/DatasetDeeplearning/license_plates_detection_train/'\n",
    "#csvpath = 'C:/Users/yusuf/Documents/GitHub/DeepLearning/DatasetDeeplearning/license_plates_detection_train.csv'\n",
    "#croppedImagesPath = 'C:/Users/yusuf/Documents/GitHub/DeepLearning/DatasetDeeplearning/croppedImages/'\n",
    "#trainingdatacsvpath = 'C:/Users/yusuf/Documents/GitHub/DeepLearning/trainingdata.csv'\n",
    "#predictioncsvpath = 'C:/Users/yusuf/Documents/GitHub/DeepLearning/DatasetDeeplearning/license_plates_recognition_train.csv'\n",
    "#testFolder = 'DatasetDeeplearning/TestImages/'\n",
    "#trainFolder = 'DatasetDeeplearning/TestImages/'\n",
    "\n",
    "\n",
    "# imagepath = 'C:/Users/chris/source/repos/DeepLearning/DatasetDeeplearning/license_plates_detection_train/'\n",
    "# csvpath = 'C:/Users/chris/source/repos/DeepLearning/DatasetDeeplearning/license_plates_detection_train.csv'\n",
    "# croppedImagesPath = 'C:/Users/chris/source/repos/DeepLearning/DatasetDeeplearning/croppedImages/'\n",
    "# trainingdatacsvpath = 'C:/Users/chris/source/repos/DeepLearning/DatasetDeeplearning/trainingdata.csv'\n",
    "# predictioncsvpath = 'C:/Users/chris/source/repos/DeepLearning/DatasetDeeplearning/license_plates_recognition_train.csv'\n",
    "# testFolder = 'DatasetDeeplearning/TestImages/'\n",
    "# trainFolder = 'DatasetDeeplearning/TestImages/'\n",
    "\n"
   ]
  }
 ],
 "metadata": {
  "interpreter": {
   "hash": "ca9c90c9b299e3c35d28bc96236d8f2c0bd3d51256cb5ad616950692d4a1a879"
  },
  "kernelspec": {
   "display_name": "Python 3.9.7 ('base')",
   "language": "python",
   "name": "python3"
  },
  "language_info": {
   "codemirror_mode": {
    "name": "ipython",
    "version": 3
   },
   "file_extension": ".py",
   "mimetype": "text/x-python",
   "name": "python",
   "nbconvert_exporter": "python",
   "pygments_lexer": "ipython3",
   "version": "3.9.7"
  },
  "orig_nbformat": 4
 },
 "nbformat": 4,
 "nbformat_minor": 2
}
